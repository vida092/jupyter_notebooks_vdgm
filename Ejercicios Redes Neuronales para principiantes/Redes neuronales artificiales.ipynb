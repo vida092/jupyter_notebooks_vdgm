{
 "cells": [
  {
   "cell_type": "markdown",
   "id": "ee16cca3",
   "metadata": {},
   "source": [
    "Build a\n",
    "network consisting of four artificial neurons. Two neurons receive inputs to the network,\n",
    "and the other two give outputs from the network."
   ]
  },
  {
   "cell_type": "code",
   "execution_count": 1,
   "id": "97b33c5f",
   "metadata": {},
   "outputs": [],
   "source": [
    "import random"
   ]
  },
  {
   "cell_type": "code",
   "execution_count": 2,
   "id": "9332ae50",
   "metadata": {},
   "outputs": [],
   "source": [
    "def ann_output(inputs, weights):\n",
    "    salida1 = inputs[0]*weights[0] + inputs[1]*weights[2]\n",
    "    salida2 = inputs[0]*weights[1] + inputs[1]*weights[3]\n",
    "    print(f\"El input {inputs} tiene como salida {[salida1,salida2]} \")\n",
    "    return([salida1, salida2])\n",
    "    \n"
   ]
  },
  {
   "cell_type": "markdown",
   "id": "5b58cfd4",
   "metadata": {},
   "source": [
    "1.- Now, set all the weights to be equal to one. This means that the information will flow\n",
    "unaffected. Compute the outputs of the network for the following inputs: (1,1), (1,0), (0,1),\n",
    "(0,0), (-1,1), (-1,-1). "
   ]
  },
  {
   "cell_type": "code",
   "execution_count": 3,
   "id": "95adebf0",
   "metadata": {},
   "outputs": [],
   "source": [
    "pesos = [1]*4\n",
    "entradas=[[1,1],[1,0],[0,1],[0,0],[-1,1],[-1,-1]]"
   ]
  },
  {
   "cell_type": "code",
   "execution_count": 4,
   "id": "f660f967",
   "metadata": {},
   "outputs": [
    {
     "name": "stdout",
     "output_type": "stream",
     "text": [
      "El input [1, 1] tiene como salida [2, 2] \n",
      "El input [1, 0] tiene como salida [1, 1] \n",
      "El input [0, 1] tiene como salida [1, 1] \n",
      "El input [0, 0] tiene como salida [0, 0] \n",
      "El input [-1, 1] tiene como salida [0, 0] \n",
      "El input [-1, -1] tiene como salida [-2, -2] \n"
     ]
    }
   ],
   "source": [
    "for entrada in entradas:\n",
    "    ann_output(entrada,pesos)"
   ]
  },
  {
   "cell_type": "markdown",
   "id": "18e53879",
   "metadata": {},
   "source": [
    "2.- Good. Now, choose weights among 0.5, 0, and -0.5, and set them randomly along the\n",
    "network. Compute the outputs for the same inputs as above. Change some weights and see\n",
    "how the behaviour of the networks changes.Which weights are more critical (if you change\n",
    "those weights, the outputs will change more dramatically)? "
   ]
  },
  {
   "cell_type": "code",
   "execution_count": 5,
   "id": "efbf8a8c",
   "metadata": {},
   "outputs": [],
   "source": [
    "pesos2 = [0.5, -0.5, 0, 0.5]"
   ]
  },
  {
   "cell_type": "code",
   "execution_count": 6,
   "id": "bd7d4b4a",
   "metadata": {},
   "outputs": [
    {
     "name": "stdout",
     "output_type": "stream",
     "text": [
      "El input [1, 1] tiene como salida [0.5, 0.0] \n",
      "El input [1, 0] tiene como salida [0.5, -0.5] \n",
      "El input [0, 1] tiene como salida [0.0, 0.5] \n",
      "El input [0, 0] tiene como salida [0.0, 0.0] \n",
      "El input [-1, 1] tiene como salida [-0.5, 1.0] \n",
      "El input [-1, -1] tiene como salida [-0.5, 0.0] \n"
     ]
    }
   ],
   "source": [
    "for entrada in entradas:\n",
    "    ann_output(entrada,pesos2)\n"
   ]
  },
  {
   "cell_type": "markdown",
   "id": "10cc12a7",
   "metadata": {},
   "source": [
    "3.-Now, suppose we want a network like the one we are working with, such that the\n",
    "outputs should be the inputs in inverse order (e.g. (0.3,0.7)->(0.7,0.3))."
   ]
  },
  {
   "cell_type": "code",
   "execution_count": 7,
   "id": "8e96d00e",
   "metadata": {},
   "outputs": [
    {
     "name": "stdout",
     "output_type": "stream",
     "text": [
      "El input [0.3, 0.7] tiene como salida [0.7, 0.3] \n"
     ]
    },
    {
     "data": {
      "text/plain": [
       "[0.7, 0.3]"
      ]
     },
     "execution_count": 7,
     "metadata": {},
     "output_type": "execute_result"
    }
   ],
   "source": [
    "pesos3 = [0,1,1,0]\n",
    "\n",
    "entrada3 = [0.3,0.7]\n",
    "ann_output(entrada3,pesos3)"
   ]
  },
  {
   "cell_type": "markdown",
   "id": "2b87e6d9",
   "metadata": {},
   "source": [
    "4.-Now, let’s set thresholds to the neurons. This is, if the previous output of the neuron\n",
    "(weighted sum of the inputs) is greater than the threshold of the neuron, the output of the\n",
    "neuron will be one, and zero otherwise. Set thresholds to a couple of the already developed\n",
    "networks, and see how this affects their behaviour"
   ]
  },
  {
   "cell_type": "code",
   "execution_count": 8,
   "id": "1c9a15e5",
   "metadata": {},
   "outputs": [],
   "source": [
    "def ann_output_thresholds(inputs, weights,thresholds):\n",
    "    neuronas = [inputs[0]*weights[0] + inputs[1]*weights[2], inputs[0]*weights[1] + inputs[1]*weights[3] ]\n",
    "    resultados = [0,0]\n",
    "    for i in range(2):\n",
    "        if neuronas[i] >= thresholds[i]:\n",
    "            resultados[i]=1\n",
    "        else:\n",
    "            pass\n",
    "    print(f\"las neuronas {neuronas}\")\n",
    "    print(f\"los umbrales {thresholds}\")\n",
    "    return(f\"Los inputs {inputs} tienen como resultado {resultados}\")"
   ]
  },
  {
   "cell_type": "code",
   "execution_count": 9,
   "id": "9a8e1887",
   "metadata": {},
   "outputs": [
    {
     "name": "stdout",
     "output_type": "stream",
     "text": [
      "las neuronas [0.15, 0.19999999999999998]\n",
      "los umbrales [5, 0.05]\n"
     ]
    },
    {
     "data": {
      "text/plain": [
       "'Los inputs [0.3, 0.7] tienen como resultado [0, 1]'"
      ]
     },
     "execution_count": 9,
     "metadata": {},
     "output_type": "execute_result"
    }
   ],
   "source": [
    "ann_output_thresholds(entrada3,pesos2, [5 ,0.05] )"
   ]
  },
  {
   "cell_type": "code",
   "execution_count": 10,
   "id": "7918ddff",
   "metadata": {},
   "outputs": [
    {
     "name": "stdout",
     "output_type": "stream",
     "text": [
      "las neuronas [0.15, 0.19999999999999998]\n",
      "los umbrales [0.6670128886421974, 0.037913346274887516]\n"
     ]
    },
    {
     "data": {
      "text/plain": [
       "'Los inputs [0.3, 0.7] tienen como resultado [0, 1]'"
      ]
     },
     "execution_count": 10,
     "metadata": {},
     "output_type": "execute_result"
    }
   ],
   "source": [
    "ann_output_thresholds(entrada3,pesos2, [random.random(),random.random()] )"
   ]
  },
  {
   "cell_type": "markdown",
   "id": "bdad8d2d",
   "metadata": {},
   "source": [
    "Now, suppose we have a network which will receive for inputs only zeroes and/or\n",
    "ones. Adjust the weights and thresholds of the neurons so that the output of the first output\n",
    "neuron will be the conjunction (AND) of the network inputs (one when both inputs are\n",
    "one, zero otherwise), and the output of the second output neuron will be the disjunction\n",
    "(OR) of the network inputs (zero in both inputs are zeroes, one otherwise). You can see\n",
    "that there is more than one network which will give the requested result"
   ]
  },
  {
   "cell_type": "code",
   "execution_count": 11,
   "id": "a1ebde3f",
   "metadata": {},
   "outputs": [],
   "source": [
    "def logical_ann_1(entrada):\n",
    "    neurona_and = min(entrada[0],entrada[1])\n",
    "    neurona_or = max(entrada[0],entrada[1])\n",
    "    print(f\"output (and) es {neurona_and}\" )\n",
    "    print(f\"output (or) es {neurona_or}\" )\n",
    "    return(neurona_and, neurona_or)"
   ]
  },
  {
   "cell_type": "code",
   "execution_count": 12,
   "id": "93fa1244",
   "metadata": {},
   "outputs": [
    {
     "name": "stdout",
     "output_type": "stream",
     "text": [
      "output (and) es 0\n",
      "output (or) es 1\n"
     ]
    },
    {
     "data": {
      "text/plain": [
       "(0, 1)"
      ]
     },
     "execution_count": 12,
     "metadata": {},
     "output_type": "execute_result"
    }
   ],
   "source": [
    "logical_ann_1([0,1])"
   ]
  },
  {
   "cell_type": "code",
   "execution_count": 13,
   "id": "168b91a9",
   "metadata": {},
   "outputs": [
    {
     "name": "stdout",
     "output_type": "stream",
     "text": [
      "las neuronas [0.0, 0.0]\n",
      "los umbrales [1, 0.5]\n"
     ]
    },
    {
     "data": {
      "text/plain": [
       "'Los inputs [0, 0] tienen como resultado [0, 0]'"
      ]
     },
     "execution_count": 13,
     "metadata": {},
     "output_type": "execute_result"
    }
   ],
   "source": [
    "logica_pesos = [0.5, 0.5, 1, 1]\n",
    "ann_output_thresholds([0,0], logica_pesos, [1,0.5] )"
   ]
  },
  {
   "cell_type": "markdown",
   "id": "d14c5b5c",
   "metadata": {},
   "source": [
    "# Backpropagation"
   ]
  },
  {
   "cell_type": "code",
   "execution_count": 14,
   "id": "63ff278c",
   "metadata": {},
   "outputs": [
    {
     "name": "stdout",
     "output_type": "stream",
     "text": [
      "entra [ 1.    0.25 -0.5 ]\n",
      "sale [-0.46775781  0.97953566 -0.61669563] \n",
      "\n"
     ]
    }
   ],
   "source": [
    "import numpy as np\n",
    "\n",
    "input_size = 3\n",
    "hidden_size = 2\n",
    "output_size = 3\n",
    "\n",
    "W1 = np.random.randn(input_size, hidden_size)\n",
    "W2 = np.random.randn(hidden_size, output_size)\n",
    "\n",
    "def sigmoid(x):\n",
    "    return 1 / (1 + np.exp(-x))\n",
    "\n",
    "def tanh(x):\n",
    "    return np.tanh(x)\n",
    "\n",
    "def forward(X):\n",
    "\n",
    "    z1 = np.dot(X, W1)\n",
    "    a1 = sigmoid(z1)\n",
    "\n",
    "    z2 = np.dot(a1, W2)\n",
    "    y_hat = tanh(z2)\n",
    "    \n",
    "    print(f\"entra {X}\")\n",
    "    print(f\"sale {y_hat} \\n\")\n",
    "     \n",
    "    return y_hat, z1, a1, z2\n",
    "\n",
    "\n",
    "X = np.array([1.0, 0.25, -0.5])\n",
    "y_hat = forward(X)"
   ]
  },
  {
   "cell_type": "code",
   "execution_count": 15,
   "id": "d6046a90",
   "metadata": {},
   "outputs": [],
   "source": [
    "X_1 = np.array([1.0, 0.25, -0.5]).reshape(1, -1) \n",
    "Y_target = np.array([1.0, -1.0, 0.0])\n"
   ]
  },
  {
   "cell_type": "code",
   "execution_count": 16,
   "id": "13f08b15",
   "metadata": {},
   "outputs": [],
   "source": [
    "def sigmoid_d(x):\n",
    "    return sigmoid(x) * (1 - sigmoid(x))\n",
    "\n",
    "def tanh_d(x):\n",
    "    return 1 - np.tanh(x) ** 2"
   ]
  },
  {
   "cell_type": "code",
   "execution_count": 17,
   "id": "36d4f89c",
   "metadata": {},
   "outputs": [],
   "source": [
    "def backward(X, Y_target, y_hat, z1, a1, z2):\n",
    "    delta3 = (y_hat - Y_target)*tanh_d(z2)\n",
    "    dW2 = np.dot(a1.T, delta3)\n",
    "    \n",
    "    delta2 = np.dot(delta3, W2.T) * sigmoid_d(z1)\n",
    "    dW1 = np.dot(X.reshape(-1,1), delta2.reshape(1,-1))\n",
    "    \n",
    "    \n",
    "    return dW1, dW2"
   ]
  },
  {
   "cell_type": "code",
   "execution_count": 18,
   "id": "05d63564",
   "metadata": {},
   "outputs": [
    {
     "name": "stdout",
     "output_type": "stream",
     "text": [
      "entra [[ 1.    0.25 -0.5 ]]\n",
      "sale [[-0.46775781  0.97953566 -0.61669563]] \n",
      "\n",
      "epoca 0 tiene error: 2.5403125592657783\n",
      "entra [[ 1.    0.25 -0.5 ]]\n",
      "sale [[-0.17145249  0.97743246 -0.55884334]] \n",
      "\n",
      "epoca 1 tiene error: 2.3653426675920595\n",
      "entra [[ 1.    0.25 -0.5 ]]\n",
      "sale [[ 0.13618832  0.97561445 -0.49782309]] \n",
      "\n",
      "epoca 2 tiene error: 2.2129281316969176\n",
      "entra [[ 1.    0.25 -0.5 ]]\n",
      "sale [[ 0.34131685  0.97397799 -0.42690207]] \n",
      "\n",
      "epoca 3 tiene error: 2.1243111718284378\n",
      "entra [[ 1.    0.25 -0.5 ]]\n",
      "sale [[ 0.461252    0.97223402 -0.34883072]] \n",
      "\n",
      "epoca 4 tiene error: 2.0740393681795415\n",
      "entra [[ 1.    0.25 -0.5 ]]\n",
      "sale [[ 0.53698528  0.97029084 -0.27234531]] \n",
      "\n",
      "epoca 5 tiene error: 2.042204838248907\n",
      "entra [[ 1.    0.25 -0.5 ]]\n",
      "sale [[ 0.58940912  0.96811724 -0.20493974]] \n",
      "\n",
      "epoca 6 tiene error: 2.0209083722337033\n",
      "entra [[ 1.    0.25 -0.5 ]]\n",
      "sale [[ 0.62823541  0.96566866 -0.15024828]] \n",
      "\n",
      "epoca 7 tiene error: 2.006149726898678\n",
      "entra [[ 1.    0.25 -0.5 ]]\n",
      "sale [[ 0.65830286  0.96287486 -0.10827502]] \n",
      "\n",
      "epoca 8 tiene error: 1.9953340874997105\n",
      "entra [[ 1.    0.25 -0.5 ]]\n",
      "sale [[ 0.68225811  0.95963969 -0.07704786]] \n",
      "\n",
      "epoca 9 tiene error: 1.9867269539654175\n",
      "entra [[ 1.    0.25 -0.5 ]]\n",
      "sale [[ 0.70168819  0.95583755 -0.05408448]] \n",
      "\n",
      "epoca 10 tiene error: 1.9791956878850385\n",
      "entra [[ 1.    0.25 -0.5 ]]\n",
      "sale [[ 0.7176164   0.95130283 -0.03713319]] \n",
      "\n",
      "epoca 11 tiene error: 1.971979238785767\n",
      "entra [[ 1.    0.25 -0.5 ]]\n",
      "sale [[ 0.73073287  0.94581111 -0.0243911 ]] \n",
      "\n",
      "epoca 12 tiene error: 1.9645051809682514\n",
      "entra [[ 1.    0.25 -0.5 ]]\n",
      "sale [[ 0.74151045  0.93904877 -0.01448363]] \n",
      "\n",
      "epoca 13 tiene error: 1.9562558003333903\n",
      "entra [[ 1.    0.25 -0.5 ]]\n",
      "sale [[ 0.75026649  0.93056399 -0.00636801]] \n",
      "\n",
      "epoca 14 tiene error: 1.9466598805563713\n",
      "entra [[ 1.    0.25 -0.5 ]]\n",
      "sale [[7.57195530e-01 9.19685266e-01 7.73989625e-04]] \n",
      "\n",
      "epoca 15 tiene error: 1.9349796203514176\n",
      "entra [[ 1.    0.25 -0.5 ]]\n",
      "sale [[0.76238316 0.9053812  0.00763674]] \n",
      "\n",
      "epoca 16 tiene error: 1.9201556210406163\n",
      "entra [[ 1.    0.25 -0.5 ]]\n",
      "sale [[0.7658044  0.88601121 0.01488762]] \n",
      "\n",
      "epoca 17 tiene error: 1.9005545211486237\n",
      "entra [[ 1.    0.25 -0.5 ]]\n",
      "sale [[0.76730711 0.8588704  0.02327099]] \n",
      "\n",
      "epoca 18 tiene error: 1.8735225365024757\n",
      "entra [[ 1.    0.25 -0.5 ]]\n",
      "sale [[0.76658158 0.81935176 0.03373141]] \n",
      "\n",
      "epoca 19 tiene error: 1.834574282166493\n",
      "entra [[ 1.    0.25 -0.5 ]]\n",
      "sale [[0.76313042 0.75946777 0.04755052]] \n",
      "\n",
      "epoca 20 tiene error: 1.775977224369414\n",
      "entra [[ 1.    0.25 -0.5 ]]\n",
      "sale [[0.75631312 0.66574508 0.06639753]] \n",
      "\n",
      "epoca 21 tiene error: 1.6847844382528898\n",
      "entra [[ 1.    0.25 -0.5 ]]\n",
      "sale [[0.74573713 0.51885575 0.09184597]] \n",
      "\n",
      "epoca 22 tiene error: 1.5427274786283611\n",
      "entra [[ 1.    0.25 -0.5 ]]\n",
      "sale [[0.73261446 0.30538991 0.12315582]] \n",
      "\n",
      "epoca 23 tiene error: 1.3381723406116435\n",
      "entra [[ 1.    0.25 -0.5 ]]\n",
      "sale [[0.72181094 0.05192256 0.15294606]] \n",
      "\n",
      "epoca 24 tiene error: 1.0987823797422194\n",
      "entra [[ 1.    0.25 -0.5 ]]\n",
      "sale [[ 0.7195513  -0.17276292  0.16872158]] \n",
      "\n",
      "epoca 25 tiene error: 0.889628933247698\n",
      "entra [[ 1.    0.25 -0.5 ]]\n",
      "sale [[ 0.72615695 -0.33296047  0.16625942]] \n",
      "\n",
      "epoca 26 tiene error: 0.7399823909890091\n",
      "entra [[ 1.    0.25 -0.5 ]]\n",
      "sale [[ 0.73748799 -0.44116049  0.15159933]] \n",
      "\n",
      "epoca 27 tiene error: 0.6357645102089114\n",
      "entra [[ 1.    0.25 -0.5 ]]\n",
      "sale [[ 0.7502381  -0.51672626  0.13162897]] \n",
      "\n",
      "epoca 28 tiene error: 0.5596969696206613\n",
      "entra [[ 1.    0.25 -0.5 ]]\n",
      "sale [[ 0.76276738 -0.57220777  0.11073562]] \n",
      "\n",
      "epoca 29 tiene error: 0.5015454938198901\n",
      "entra [[ 1.    0.25 -0.5 ]]\n",
      "sale [[ 0.77441614 -0.61477856  0.09122699]] \n",
      "\n",
      "epoca 30 tiene error: 0.4556380088928177\n",
      "entra [[ 1.    0.25 -0.5 ]]\n",
      "sale [[ 0.78499177 -0.64859924  0.07411383]] \n",
      "\n",
      "epoca 31 tiene error: 0.4185736376594668\n",
      "entra [[ 1.    0.25 -0.5 ]]\n",
      "sale [[ 0.79450621 -0.67619952  0.05966823]] \n",
      "\n",
      "epoca 32 tiene error: 0.3881169252960743\n",
      "entra [[ 1.    0.25 -0.5 ]]\n",
      "sale [[ 0.80305139 -0.69919906  0.04777634]] \n",
      "\n",
      "epoca 33 tiene error: 0.36270172239021176\n",
      "entra [[ 1.    0.25 -0.5 ]]\n",
      "sale [[ 0.81074223 -0.7186856   0.03814944]] \n",
      "\n",
      "epoca 34 tiene error: 0.34119155294299036\n",
      "entra [[ 1.    0.25 -0.5 ]]\n",
      "sale [[ 0.81769177 -0.73542049  0.03044296]] \n",
      "\n",
      "epoca 35 tiene error: 0.3227466199104119\n",
      "entra [[ 1.    0.25 -0.5 ]]\n",
      "sale [[ 0.82400164 -0.74995539  0.02431848]] \n",
      "\n",
      "epoca 36 tiene error: 0.30673949341404505\n",
      "entra [[ 1.    0.25 -0.5 ]]\n",
      "sale [[ 0.8297594  -0.76270163  0.0194724 ]] \n",
      "\n",
      "epoca 37 tiene error: 0.29269703510078343\n",
      "entra [[ 1.    0.25 -0.5 ]]\n",
      "sale [[ 0.83503901 -0.77397315  0.0156459 ]] \n",
      "\n",
      "epoca 38 tiene error: 0.28025891521538665\n",
      "entra [[ 1.    0.25 -0.5 ]]\n",
      "sale [[ 0.83990244 -0.78401426  0.01262534]] \n",
      "\n",
      "epoca 39 tiene error: 0.2691476643178515\n",
      "entra [[ 1.    0.25 -0.5 ]]\n",
      "sale [[ 0.84440145 -0.79301822  0.01023805]] \n",
      "\n",
      "epoca 40 tiene error: 0.25914703028110647\n",
      "entra [[ 1.    0.25 -0.5 ]]\n",
      "sale [[ 0.84857939 -0.80113997  0.0083466 ]] \n",
      "\n",
      "epoca 41 tiene error: 0.25008634445800343\n",
      "entra [[ 1.    0.25 -0.5 ]]\n",
      "sale [[ 0.85247272 -0.80850523  0.00684265]] \n",
      "\n",
      "epoca 42 tiene error: 0.24182921291296972\n",
      "entra [[ 1.    0.25 -0.5 ]]\n",
      "sale [[ 0.85611229 -0.81521706  0.00564146]] \n",
      "\n",
      "epoca 43 tiene error: 0.23426530192613831\n",
      "entra [[ 1.    0.25 -0.5 ]]\n",
      "sale [[ 0.85952437 -0.82136076  0.00467707]] \n",
      "\n",
      "epoca 44 tiene error: 0.2273043299306057\n",
      "entra [[ 1.    0.25 -0.5 ]]\n",
      "sale [[ 0.86273146 -0.82700743  0.00389827]] \n",
      "\n",
      "epoca 45 tiene error: 0.22087163326398732\n",
      "entra [[ 1.    0.25 -0.5 ]]\n",
      "sale [[ 0.86575302 -0.83221686  0.00326537]] \n",
      "\n",
      "epoca 46 tiene error: 0.21490485870042056\n",
      "entra [[ 1.    0.25 -0.5 ]]\n",
      "sale [[ 0.86860593 -0.83703962  0.00274762]] \n",
      "\n",
      "epoca 47 tiene error: 0.20935146805207114\n",
      "entra [[ 1.    0.25 -0.5 ]]\n",
      "sale [[ 0.87130495 -0.84151879  0.00232118]] \n",
      "\n",
      "epoca 48 tiene error: 0.204166833184827\n",
      "entra [[ 1.    0.25 -0.5 ]]\n",
      "sale [[ 0.87386309 -0.84569126  0.00196754]] \n",
      "\n",
      "epoca 49 tiene error: 0.19931276471337397\n",
      "entra [[ 1.    0.25 -0.5 ]]\n",
      "sale [[ 0.87629181 -0.8495888   0.00167226]] \n",
      "\n",
      "epoca 50 tiene error: 0.19475636279964564\n",
      "entra [[ 1.    0.25 -0.5 ]]\n",
      "sale [[ 0.87860133 -0.85323891  0.00142407]] \n",
      "\n",
      "epoca 51 tiene error: 0.1904691099294359\n",
      "entra [[ 1.    0.25 -0.5 ]]\n",
      "sale [[ 0.88080075 -0.85666552  0.00121412]] \n",
      "\n",
      "epoca 52 tiene error: 0.18642614754507483\n",
      "entra [[ 1.    0.25 -0.5 ]]\n",
      "sale [[ 0.88289823 -0.85988954  0.00103542]] \n",
      "\n",
      "epoca 53 tiene error: 0.18260569391416567\n",
      "entra [[ 1.    0.25 -0.5 ]]\n",
      "sale [[ 8.84901115e-01 -8.62929301e-01  8.82444582e-04]] \n",
      "\n",
      "epoca 54 tiene error: 0.17898857163302873\n",
      "entra [[ 1.    0.25 -0.5 ]]\n",
      "sale [[ 8.86816036e-01 -8.65800987e-01  7.50780577e-04]] \n",
      "\n",
      "epoca 55 tiene error: 0.1755578210739622\n",
      "entra [[ 1.    0.25 -0.5 ]]\n",
      "sale [[ 8.88648994e-01 -8.68518898e-01  6.36887154e-04]] \n",
      "\n",
      "epoca 56 tiene error: 0.17229838182507284\n",
      "entra [[ 1.    0.25 -0.5 ]]\n",
      "sale [[ 8.90405441e-01 -8.71095733e-01  5.37907406e-04]] \n",
      "\n",
      "epoca 57 tiene error: 0.1691968283812859\n",
      "entra [[ 1.    0.25 -0.5 ]]\n",
      "sale [[ 8.92090341e-01 -8.73542808e-01  4.51520641e-04]] \n",
      "\n",
      "epoca 58 tiene error: 0.1662411494661735\n",
      "entra [[ 1.    0.25 -0.5 ]]\n",
      "sale [[ 8.93708228e-01 -8.75870237e-01  3.75829616e-04]] \n",
      "\n",
      "epoca 59 tiene error: 0.1634205627021898\n",
      "entra [[ 1.    0.25 -0.5 ]]\n",
      "sale [[ 8.95263247e-01 -8.78087090e-01  3.09273353e-04]] \n",
      "\n",
      "epoca 60 tiene error: 0.16072535811566782\n",
      "entra [[ 1.    0.25 -0.5 ]]\n",
      "sale [[ 8.96759204e-01 -8.80201525e-01  2.50559463e-04]] \n",
      "\n",
      "epoca 61 tiene error: 0.1581467653136782\n",
      "entra [[ 1.    0.25 -0.5 ]]\n",
      "sale [[ 8.98199594e-01 -8.82220900e-01  1.98611383e-04]] \n",
      "\n",
      "epoca 62 tiene error: 0.15567684021046557\n",
      "entra [[ 1.    0.25 -0.5 ]]\n",
      "sale [[ 8.99587635e-01 -8.84151869e-01  1.52527030e-04]] \n",
      "\n",
      "epoca 63 tiene error: 0.15330836798951325\n",
      "entra [[ 1.    0.25 -0.5 ]]\n",
      "sale [[ 9.00926297e-01 -8.86000467e-01  1.11546246e-04]] \n",
      "\n",
      "epoca 64 tiene error: 0.15103477962002756\n",
      "entra [[ 1.    0.25 -0.5 ]]\n",
      "sale [[ 9.02218323e-01 -8.87772177e-01  7.50250177e-05]] \n",
      "\n",
      "epoca 65 tiene error: 0.1488500797455292\n",
      "entra [[ 1.    0.25 -0.5 ]]\n",
      "sale [[ 9.03466252e-01 -8.89471997e-01  4.24149414e-05]] \n",
      "\n",
      "epoca 66 tiene error: 0.14674878415824463\n",
      "entra [[ 1.    0.25 -0.5 ]]\n",
      "sale [[ 9.04672439e-01 -8.91104490e-01  1.32467822e-05]] \n",
      "\n",
      "epoca 67 tiene error: 0.14472586538935647\n",
      "entra [[ 1.    0.25 -0.5 ]]\n",
      "sale [[ 9.05839069e-01 -8.92673831e-01 -1.28827752e-05]] \n",
      "\n",
      "epoca 68 tiene error: 0.14277670519939895\n",
      "entra [[ 1.    0.25 -0.5 ]]\n",
      "sale [[ 9.06968175e-01 -8.94183849e-01 -3.63218608e-05]] \n",
      "\n",
      "epoca 69 tiene error: 0.1408970529585576\n",
      "entra [[ 1.    0.25 -0.5 ]]\n",
      "sale [[ 9.08061650e-01 -8.95638061e-01 -5.73721680e-05]] \n",
      "\n",
      "epoca 70 tiene error: 0.13908298907357364\n",
      "entra [[ 1.    0.25 -0.5 ]]\n",
      "sale [[ 9.09121256e-01 -8.97039706e-01 -7.62961242e-05]] \n",
      "\n",
      "epoca 71 tiene error: 0.13733089275427982\n",
      "entra [[ 1.    0.25 -0.5 ]]\n",
      "sale [[ 9.10148642e-01 -8.98391769e-01 -9.33227997e-05]] \n",
      "\n",
      "epoca 72 tiene error: 0.13563741352465936\n",
      "entra [[ 1.    0.25 -0.5 ]]\n",
      "sale [[ 9.11145346e-01 -8.99697008e-01 -1.08652803e-04]] \n",
      "\n",
      "epoca 73 tiene error: 0.13399944597552724\n",
      "entra [[ 1.    0.25 -0.5 ]]\n",
      "sale [[ 9.12112810e-01 -9.00957975e-01 -1.22462360e-04]] \n",
      "\n",
      "epoca 74 tiene error: 0.13241410733226935\n",
      "entra [[ 1.    0.25 -0.5 ]]\n",
      "sale [[ 9.13052384e-01 -9.02177035e-01 -1.34906720e-04]] \n",
      "\n",
      "epoca 75 tiene error: 0.13087871747454055\n",
      "entra [[ 1.    0.25 -0.5 ]]\n",
      "sale [[ 9.13965332e-01 -9.03356382e-01 -1.46123030e-04]] \n",
      "\n",
      "epoca 76 tiene error: 0.12939078109778704\n",
      "entra [[ 1.    0.25 -0.5 ]]\n",
      "sale [[ 9.14852845e-01 -9.04498058e-01 -1.56232752e-04]] \n",
      "\n",
      "epoca 77 tiene error: 0.1279479717508375\n",
      "entra [[ 1.    0.25 -0.5 ]]\n",
      "sale [[ 9.15716038e-01 -9.05603960e-01 -1.65343717e-04]] \n",
      "\n",
      "epoca 78 tiene error: 0.12654811752112297\n",
      "entra [[ 1.    0.25 -0.5 ]]\n",
      "sale [[ 9.16555963e-01 -9.06675858e-01 -1.73551878e-04]] \n",
      "\n",
      "epoca 79 tiene error: 0.12518918817056912\n",
      "entra [[ 1.    0.25 -0.5 ]]\n",
      "sale [[ 9.17373611e-01 -9.07715405e-01 -1.80942794e-04]] \n",
      "\n",
      "epoca 80 tiene error: 0.12386928355186233\n",
      "entra [[ 1.    0.25 -0.5 ]]\n",
      "sale [[ 9.18169914e-01 -9.08724144e-01 -1.87592924e-04]] \n",
      "\n",
      "epoca 81 tiene error: 0.12258662315743404\n",
      "entra [[ 1.    0.25 -0.5 ]]\n",
      "sale [[ 9.18945752e-01 -9.09703518e-01 -1.93570717e-04]] \n",
      "\n",
      "epoca 82 tiene error: 0.1213395366727951\n",
      "entra [[ 1.    0.25 -0.5 ]]\n",
      "sale [[ 9.19701958e-01 -9.10654882e-01 -1.98937572e-04]] \n",
      "\n",
      "epoca 83 tiene error: 0.12012645542233365\n",
      "entra [[ 1.    0.25 -0.5 ]]\n",
      "sale [[ 9.20439317e-01 -9.11579502e-01 -2.03748658e-04]] \n",
      "\n",
      "epoca 84 tiene error: 0.11894590460982203\n",
      "entra [[ 1.    0.25 -0.5 ]]\n",
      "sale [[ 9.21158572e-01 -9.12478571e-01 -2.08053632e-04]] \n",
      "\n",
      "epoca 85 tiene error: 0.11779649626800748\n",
      "entra [[ 1.    0.25 -0.5 ]]\n",
      "sale [[ 9.21860427e-01 -9.13353208e-01 -2.11897259e-04]] \n",
      "\n",
      "epoca 86 tiene error: 0.1166769228421291\n",
      "entra [[ 1.    0.25 -0.5 ]]\n",
      "sale [[ 9.22545550e-01 -9.14204464e-01 -2.15319957e-04]] \n",
      "\n",
      "epoca 87 tiene error: 0.1155859513412331\n",
      "entra [[ 1.    0.25 -0.5 ]]\n",
      "sale [[ 9.23214572e-01 -9.15033332e-01 -2.18358271e-04]] \n",
      "\n",
      "epoca 88 tiene error: 0.11452241799898223\n",
      "entra [[ 1.    0.25 -0.5 ]]\n",
      "sale [[ 9.23868093e-01 -9.15840747e-01 -2.21045295e-04]] \n",
      "\n",
      "epoca 89 tiene error: 0.11348522339245055\n",
      "entra [[ 1.    0.25 -0.5 ]]\n",
      "sale [[ 9.24506684e-01 -9.16627590e-01 -2.23411034e-04]] \n",
      "\n",
      "epoca 90 tiene error: 0.11247332797330106\n",
      "entra [[ 1.    0.25 -0.5 ]]\n",
      "sale [[ 9.25130885e-01 -9.17394693e-01 -2.25482727e-04]] \n",
      "\n",
      "epoca 91 tiene error: 0.11148574797089707\n",
      "entra [[ 1.    0.25 -0.5 ]]\n",
      "sale [[ 9.25741211e-01 -9.18142844e-01 -2.27285137e-04]] \n",
      "\n",
      "epoca 92 tiene error: 0.11052155163140176\n",
      "entra [[ 1.    0.25 -0.5 ]]\n",
      "sale [[ 9.26338153e-01 -9.18872787e-01 -2.28840798e-04]] \n",
      "\n",
      "epoca 93 tiene error: 0.10957985576086576\n",
      "entra [[ 1.    0.25 -0.5 ]]\n",
      "sale [[ 9.26922176e-01 -9.19585227e-01 -2.30170241e-04]] \n",
      "\n",
      "epoca 94 tiene error: 0.10865982254375992\n",
      "entra [[ 1.    0.25 -0.5 ]]\n",
      "sale [[ 9.27493726e-01 -9.20280832e-01 -2.31292194e-04]] \n",
      "\n",
      "epoca 95 tiene error: 0.10776065661145849\n",
      "entra [[ 1.    0.25 -0.5 ]]\n",
      "sale [[ 9.28053225e-01 -9.20960234e-01 -2.32223754e-04]] \n",
      "\n",
      "epoca 96 tiene error: 0.10688160233785245\n",
      "entra [[ 1.    0.25 -0.5 ]]\n",
      "sale [[ 9.28601078e-01 -9.21624036e-01 -2.32980550e-04]] \n",
      "\n",
      "epoca 97 tiene error: 0.10602194134164628\n",
      "entra [[ 1.    0.25 -0.5 ]]\n",
      "sale [[ 9.29137672e-01 -9.22272807e-01 -2.33576879e-04]] \n",
      "\n",
      "epoca 98 tiene error: 0.10518099017697505\n",
      "entra [[ 1.    0.25 -0.5 ]]\n",
      "sale [[ 9.29663373e-01 -9.22907090e-01 -2.34025831e-04]] \n",
      "\n",
      "epoca 99 tiene error: 0.10435809819584016\n"
     ]
    }
   ],
   "source": [
    "learning_rate = 0.3  #eta\n",
    "repeticiones = 100\n",
    "error = []\n",
    "\n",
    "for i in range(repeticiones):\n",
    "    y_hat, z1, a1, z2 = forward(X_1)\n",
    "    er = np.linalg.norm(y_hat - Y_target)\n",
    "    error.append(er)\n",
    "    \n",
    "    print(f\"epoca {i} tiene error: {er}\")\n",
    "    \n",
    "    dW1, dW2 = backward(X_1, Y_target, y_hat, z1, a1, z2)\n",
    "    \n",
    "    W1 -= learning_rate * dW1\n",
    "    W2 -= learning_rate * dW2"
   ]
  },
  {
   "cell_type": "code",
   "execution_count": 19,
   "id": "9fc5d4f3",
   "metadata": {},
   "outputs": [
    {
     "data": {
      "image/png": "[encoded data removed]",
      "text/plain": [
       "<Figure size 432x288 with 1 Axes>"
      ]
     },
     "metadata": {
      "needs_background": "light"
     },
     "output_type": "display_data"
    }
   ],
   "source": [
    "import matplotlib.pyplot as plt\n",
    "\n",
    "dominio=[x for x in range(len(error))]\n",
    "plt.plot(dominio, error)\n",
    "plt.show()\n"
   ]
  }
 ],
 "metadata": {
  "kernelspec": {
   "display_name": "Python 3 (ipykernel)",
   "language": "python",
   "name": "python3"
  },
  "language_info": {
   "codemirror_mode": {
    "name": "ipython",
    "version": 3
   },
   "file_extension": ".py",
   "mimetype": "text/x-python",
   "name": "python",
   "nbconvert_exporter": "python",
   "pygments_lexer": "ipython3",
   "version": "3.9.7"
  }
 },
 "nbformat": 4,
 "nbformat_minor": 5
}

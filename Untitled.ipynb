{
 "cells": [
  {
   "cell_type": "code",
   "execution_count": 1,
   "id": "3baf39f8",
   "metadata": {},
   "outputs": [],
   "source": [
    "import numpy as np\n",
    "import random\n",
    "import matplotlib.pyplot as plt\n",
    "import matplotlib.colors as colors"
   ]
  },
  {
   "cell_type": "code",
   "execution_count": 2,
   "id": "c9df388a",
   "metadata": {},
   "outputs": [],
   "source": [
    "def create_board():\n",
    "    board = np.zeros((8,8), dtype=int)\n",
    "    for i in range(8):\n",
    "        row = random.randint(0,7)\n",
    "        board[row][i]=1\n",
    "    return board"
   ]
  },
  {
   "cell_type": "code",
   "execution_count": 3,
   "id": "58b5e7d8",
   "metadata": {},
   "outputs": [],
   "source": [
    "def fitness(board, flag = False):\n",
    "    attacking_pairs = 0\n",
    "    for col in range(8):\n",
    "        if flag:\n",
    "            print(f\"buscando reina en columna {col}\")\n",
    "        # Encontrar la fila de la reina en la columna actual\n",
    "        row = np.where(board[:, col] == 1)[0][0]\n",
    "        if flag:\n",
    "            print(f\"hay una reina en la fila {row}\")\n",
    "            print(\"-------------\")\n",
    "        # Verificar ataques en la misma fila\n",
    "        for other_col in range(col + 1, 8):\n",
    "            if flag:\n",
    "                print(f\"buscando en la columna {other_col}\")\n",
    "            if board[row][other_col] == 1:\n",
    "                if flag:\n",
    "                    print(f\" hay una reina atacada en {row} {other_col}\")\n",
    "                attacking_pairs += 1\n",
    "        \n",
    "        # Verificar ataques en diagonales\n",
    "        for i in range(1, 8 - col):\n",
    "            if flag:\n",
    "                print(\"buscando en las diagonales:\")\n",
    "            if row - i >= 0 and board[row - i][col + i] == 1:  # Diagonal superior\n",
    "                if flag:\n",
    "                    print(f\"  hay un ataque en diagonal en {row - i} , {col + i} \")\n",
    "                attacking_pairs += 1\n",
    "            if row + i < 8 and board[row + i][col + i] == 1:  # Diagonal inferior\n",
    "                if flag:\n",
    "                    print(f\"  hay un ataque en diagonal en {row + i} , {col + i}\")\n",
    "                attacking_pairs += 1\n",
    "        if flag:\n",
    "            print(f\"se acabó la búsqueda en {col} \\n\")\n",
    "        \n",
    "    print(f\"hay {attacking_pairs} ataques\")\n",
    "    return attacking_pairs"
   ]
  },
  {
   "cell_type": "code",
   "execution_count": 4,
   "id": "346306cd",
   "metadata": {},
   "outputs": [],
   "source": [
    "def crossover(parent1, parent2):\n",
    "    childs=[]\n",
    "    child = np.zeros((8, 8), dtype=int)\n",
    "    child2 = np.zeros((8,8), dtype=int)\n",
    "    #Primer hijo\n",
    "    child[:, :4] = parent1[:, :4]  \n",
    "    child[:, 4:] = parent2[:, 4:]\n",
    "    #Segundo hijo\n",
    "    child2[:,:4] = parent2[:, :4]\n",
    "    child2[:,4:] = parent1[:, :4]\n",
    "    childs.append(child)\n",
    "    childs.append(child2)\n",
    "    return childs"
   ]
  },
  {
   "cell_type": "code",
   "execution_count": 5,
   "id": "18d40f6a",
   "metadata": {},
   "outputs": [],
   "source": [
    "def mutation(board, probability):\n",
    "    if random.random() < probability:\n",
    "        # Elegir aleatoriamente dos columnas para intercambiar\n",
    "        col1, col2 = random.sample(range(8), 2)\n",
    "        # Intercambiarlas\n",
    "        board[:, [col1, col2]] = board[:, [col2, col1]]\n",
    "    return board"
   ]
  },
  {
   "cell_type": "code",
   "execution_count": 6,
   "id": "a9179b9a",
   "metadata": {},
   "outputs": [],
   "source": [
    "def create_population(n):\n",
    "    population = []\n",
    "    for i in range(n):\n",
    "        population.append(create_board())\n",
    "    return population"
   ]
  },
  {
   "cell_type": "code",
   "execution_count": 7,
   "id": "df5f28c8",
   "metadata": {},
   "outputs": [],
   "source": [
    "def choose_parents(population, n=2):\n",
    "    fitness_array = []\n",
    "    for board in population:\n",
    "        fitness_array.append(fitness(board))\n",
    "        \n",
    "    sorted_indices = np.argsort(fitness_array)\n",
    "    indices = sorted_indices[:n]\n",
    "    print(indices)\n",
    "    \n",
    "    return indices"
   ]
  },
  {
   "cell_type": "code",
   "execution_count": 14,
   "id": "838aea87",
   "metadata": {},
   "outputs": [],
   "source": [
    "population = create_population(100)"
   ]
  },
  {
   "cell_type": "code",
   "execution_count": 15,
   "id": "2a82c8cd",
   "metadata": {},
   "outputs": [
    {
     "name": "stdout",
     "output_type": "stream",
     "text": [
      "hay 7 ataques\n",
      "hay 6 ataques\n",
      "hay 5 ataques\n",
      "hay 12 ataques\n",
      "hay 5 ataques\n",
      "hay 6 ataques\n",
      "hay 8 ataques\n",
      "hay 10 ataques\n",
      "hay 10 ataques\n",
      "hay 11 ataques\n",
      "hay 6 ataques\n",
      "hay 8 ataques\n",
      "hay 8 ataques\n",
      "hay 8 ataques\n",
      "hay 8 ataques\n",
      "hay 7 ataques\n",
      "hay 8 ataques\n",
      "hay 6 ataques\n",
      "hay 10 ataques\n",
      "hay 7 ataques\n",
      "hay 6 ataques\n",
      "hay 11 ataques\n",
      "hay 11 ataques\n",
      "hay 6 ataques\n",
      "hay 7 ataques\n",
      "hay 6 ataques\n",
      "hay 8 ataques\n",
      "hay 9 ataques\n",
      "hay 11 ataques\n",
      "hay 7 ataques\n",
      "hay 6 ataques\n",
      "hay 8 ataques\n",
      "hay 14 ataques\n",
      "hay 8 ataques\n",
      "hay 10 ataques\n",
      "hay 8 ataques\n",
      "hay 9 ataques\n",
      "hay 7 ataques\n",
      "hay 13 ataques\n",
      "hay 10 ataques\n",
      "hay 9 ataques\n",
      "hay 6 ataques\n",
      "hay 9 ataques\n",
      "hay 10 ataques\n",
      "hay 8 ataques\n",
      "hay 9 ataques\n",
      "hay 7 ataques\n",
      "hay 9 ataques\n",
      "hay 9 ataques\n",
      "hay 11 ataques\n",
      "hay 6 ataques\n",
      "hay 7 ataques\n",
      "hay 8 ataques\n",
      "hay 7 ataques\n",
      "hay 7 ataques\n",
      "hay 8 ataques\n",
      "hay 10 ataques\n",
      "hay 10 ataques\n",
      "hay 7 ataques\n",
      "hay 11 ataques\n",
      "hay 9 ataques\n",
      "hay 8 ataques\n",
      "hay 10 ataques\n",
      "hay 8 ataques\n",
      "hay 7 ataques\n",
      "hay 5 ataques\n",
      "hay 8 ataques\n",
      "hay 6 ataques\n",
      "hay 11 ataques\n",
      "hay 7 ataques\n",
      "hay 12 ataques\n",
      "hay 7 ataques\n",
      "hay 9 ataques\n",
      "hay 11 ataques\n",
      "hay 6 ataques\n",
      "hay 9 ataques\n",
      "hay 6 ataques\n",
      "hay 7 ataques\n",
      "hay 8 ataques\n",
      "hay 10 ataques\n",
      "hay 11 ataques\n",
      "hay 7 ataques\n",
      "hay 6 ataques\n",
      "hay 8 ataques\n",
      "hay 7 ataques\n",
      "hay 9 ataques\n",
      "hay 4 ataques\n",
      "hay 9 ataques\n",
      "hay 8 ataques\n",
      "hay 7 ataques\n",
      "hay 8 ataques\n",
      "hay 10 ataques\n",
      "hay 6 ataques\n",
      "hay 3 ataques\n",
      "hay 7 ataques\n",
      "hay 6 ataques\n",
      "hay 8 ataques\n",
      "hay 10 ataques\n",
      "hay 7 ataques\n",
      "hay 7 ataques\n",
      "[93 86 65  2  4 74]\n"
     ]
    },
    {
     "data": {
      "text/plain": [
       "array([93, 86, 65,  2,  4, 74], dtype=int64)"
      ]
     },
     "execution_count": 15,
     "metadata": {},
     "output_type": "execute_result"
    }
   ],
   "source": [
    "choose_parents(population,6)"
   ]
  },
  {
   "cell_type": "code",
   "execution_count": null,
   "id": "01547d23",
   "metadata": {},
   "outputs": [],
   "source": []
  },
  {
   "cell_type": "code",
   "execution_count": null,
   "id": "7a7d4461",
   "metadata": {},
   "outputs": [],
   "source": []
  }
 ],
 "metadata": {
  "kernelspec": {
   "display_name": "Python 3 (ipykernel)",
   "language": "python",
   "name": "python3"
  },
  "language_info": {
   "codemirror_mode": {
    "name": "ipython",
    "version": 3
   },
   "file_extension": ".py",
   "mimetype": "text/x-python",
   "name": "python",
   "nbconvert_exporter": "python",
   "pygments_lexer": "ipython3",
   "version": "3.9.13"
  }
 },
 "nbformat": 4,
 "nbformat_minor": 5
}
